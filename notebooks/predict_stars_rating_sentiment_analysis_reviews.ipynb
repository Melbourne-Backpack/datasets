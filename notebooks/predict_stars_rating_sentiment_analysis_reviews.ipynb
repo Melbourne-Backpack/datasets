{
 "cells": [
  {
   "cell_type": "markdown",
   "id": "472429e7-6034-40ce-ae19-1849034b2d84",
   "metadata": {},
   "source": [
    "<h1 style=\"color:#ffc0cb;font-size:50px;font-family:Georgia;text-align:center;\"><strong>Melbourne Backpack's student accommodation Star Rating System</strong></h1>\n",
    "\n",
    "| Rating \t| Interpretation  \t|\n",
    "|---\t|---\t|\n",
    "| ⭐  \t| A one-star rating often means a property has no frills and only offers basic accommodations. A one-star rating doesn’t necessarily mean an accomodation is dirty, unkept or in a bad location. It simply means you’ll have a place to sleep, and that’s pretty much it.  \t|\n",
    "| ⭐⭐  \t| Like one-star, two-star properties are typically more affordable than student living that have a higher rating — they are also usually quite comfortable.  \t|\n",
    "| ⭐⭐⭐  \t| Three-star student living ordinarily have some unique amenities and provide quality service.  \t|\n",
    "| ⭐⭐⭐⭐  \t| Four-star student living are often noted for their upscale quality and extraordinary comfort.  \t|\n",
    "| ⭐⭐⭐⭐⭐  \t| A five-star property provides flawless guest services in a state-of-the-art facility. As a five-star property, such as premium dining options and personalized services to its students. With no detail being overlooked, these student living commonly even provides high-end, luxury toiletries for students.  \t|"
   ]
  },
  {
   "cell_type": "markdown",
   "id": "9e596f42-198d-467b-9dd8-0b37530cf35b",
   "metadata": {},
   "source": [
    "Next, let's have a look at the review. First, noticeable parts are the html strings like \\ r \\ n, and the parts that express emotions in parentheses such as (very unusual for him) and (a good thing) and words in capital letters like MUCH."
   ]
  },
  {
   "cell_type": "code",
   "execution_count": 1,
   "id": "af014c32-5d7e-4896-b9e3-cd89ae55a63f",
   "metadata": {},
   "outputs": [
    {
     "name": "stderr",
     "output_type": "stream",
     "text": [
      "WARNING: Ignoring invalid distribution -pencv-python-headless (c:\\users\\thu\\anaconda3\\lib\\site-packages)\n",
      "WARNING: Ignoring invalid distribution -pencv-python-headless (c:\\users\\thu\\anaconda3\\lib\\site-packages)\n",
      "WARNING: Ignoring invalid distribution -pencv-python-headless (c:\\users\\thu\\anaconda3\\lib\\site-packages)\n",
      "WARNING: Ignoring invalid distribution -pencv-python-headless (c:\\users\\thu\\anaconda3\\lib\\site-packages)\n",
      "WARNING: Ignoring invalid distribution -pencv-python-headless (c:\\users\\thu\\anaconda3\\lib\\site-packages)\n"
     ]
    },
    {
     "name": "stdout",
     "output_type": "stream",
     "text": [
      "Requirement already satisfied: ktrain in c:\\users\\thu\\anaconda3\\lib\\site-packages (0.30.0)\n",
      "Requirement already satisfied: langdetect in c:\\users\\thu\\anaconda3\\lib\\site-packages (from ktrain) (1.0.9)\n",
      "Requirement already satisfied: sentencepiece in c:\\users\\thu\\anaconda3\\lib\\site-packages (from ktrain) (0.1.96)\n",
      "Requirement already satisfied: fastprogress>=0.1.21 in c:\\users\\thu\\anaconda3\\lib\\site-packages (from ktrain) (1.0.2)\n",
      "Requirement already satisfied: keras-bert>=0.86.0 in c:\\users\\thu\\anaconda3\\lib\\site-packages (from ktrain) (0.89.0)\n",
      "Requirement already satisfied: requests in c:\\users\\thu\\anaconda3\\lib\\site-packages (from ktrain) (2.27.1)\n",
      "Requirement already satisfied: scikit-learn==0.24.2 in c:\\users\\thu\\anaconda3\\lib\\site-packages (from ktrain) (0.24.2)\n",
      "Requirement already satisfied: syntok==1.3.3 in c:\\users\\thu\\anaconda3\\lib\\site-packages (from ktrain) (1.3.3)\n",
      "Requirement already satisfied: cchardet in c:\\users\\thu\\anaconda3\\lib\\site-packages (from ktrain) (2.1.7)\n",
      "Requirement already satisfied: matplotlib>=3.0.0 in c:\\users\\thu\\anaconda3\\lib\\site-packages (from ktrain) (3.4.3)\n",
      "Requirement already satisfied: chardet in c:\\users\\thu\\anaconda3\\lib\\site-packages (from ktrain) (4.0.0)\n",
      "Requirement already satisfied: whoosh in c:\\users\\thu\\anaconda3\\lib\\site-packages (from ktrain) (2.7.4)\n",
      "Requirement already satisfied: packaging in c:\\users\\thu\\anaconda3\\lib\\site-packages (from ktrain) (21.0)\n",
      "Requirement already satisfied: joblib in c:\\users\\thu\\anaconda3\\lib\\site-packages (from ktrain) (1.0.1)\n",
      "Requirement already satisfied: pandas>=1.0.1 in c:\\users\\thu\\anaconda3\\lib\\site-packages (from ktrain) (1.4.2)\n",
      "Requirement already satisfied: jieba in c:\\users\\thu\\anaconda3\\lib\\site-packages (from ktrain) (0.42.1)\n",
      "Requirement already satisfied: transformers==4.10.3 in c:\\users\\thu\\anaconda3\\lib\\site-packages (from ktrain) (4.10.3)\n",
      "Requirement already satisfied: scipy>=0.19.1 in c:\\users\\thu\\anaconda3\\lib\\site-packages (from scikit-learn==0.24.2->ktrain) (1.7.1)\n",
      "Requirement already satisfied: numpy>=1.13.3 in c:\\users\\thu\\anaconda3\\lib\\site-packages (from scikit-learn==0.24.2->ktrain) (1.20.3)\n",
      "Requirement already satisfied: threadpoolctl>=2.0.0 in c:\\users\\thu\\anaconda3\\lib\\site-packages (from scikit-learn==0.24.2->ktrain) (2.2.0)\n",
      "Requirement already satisfied: regex in c:\\users\\thu\\anaconda3\\lib\\site-packages (from syntok==1.3.3->ktrain) (2021.8.3)\n",
      "Requirement already satisfied: tqdm>=4.27 in c:\\users\\thu\\anaconda3\\lib\\site-packages (from transformers==4.10.3->ktrain) (4.62.3)\n",
      "Requirement already satisfied: pyyaml>=5.1 in c:\\users\\thu\\anaconda3\\lib\\site-packages (from transformers==4.10.3->ktrain) (6.0)\n",
      "Requirement already satisfied: tokenizers<0.11,>=0.10.1 in c:\\users\\thu\\anaconda3\\lib\\site-packages (from transformers==4.10.3->ktrain) (0.10.3)\n",
      "Requirement already satisfied: sacremoses in c:\\users\\thu\\anaconda3\\lib\\site-packages (from transformers==4.10.3->ktrain) (0.0.47)\n",
      "Requirement already satisfied: huggingface-hub>=0.0.12 in c:\\users\\thu\\anaconda3\\lib\\site-packages (from transformers==4.10.3->ktrain) (0.4.0)\n",
      "Requirement already satisfied: filelock in c:\\users\\thu\\anaconda3\\lib\\site-packages (from transformers==4.10.3->ktrain) (3.3.1)\n",
      "Requirement already satisfied: keras-transformer==0.40.0 in c:\\users\\thu\\anaconda3\\lib\\site-packages (from keras-bert>=0.86.0->ktrain) (0.40.0)\n",
      "Requirement already satisfied: keras-multi-head==0.29.0 in c:\\users\\thu\\anaconda3\\lib\\site-packages (from keras-transformer==0.40.0->keras-bert>=0.86.0->ktrain) (0.29.0)\n",
      "Requirement already satisfied: keras-embed-sim==0.10.0 in c:\\users\\thu\\anaconda3\\lib\\site-packages (from keras-transformer==0.40.0->keras-bert>=0.86.0->ktrain) (0.10.0)\n",
      "Requirement already satisfied: keras-position-wise-feed-forward==0.8.0 in c:\\users\\thu\\anaconda3\\lib\\site-packages (from keras-transformer==0.40.0->keras-bert>=0.86.0->ktrain) (0.8.0)\n",
      "Requirement already satisfied: keras-pos-embd==0.13.0 in c:\\users\\thu\\anaconda3\\lib\\site-packages (from keras-transformer==0.40.0->keras-bert>=0.86.0->ktrain) (0.13.0)\n",
      "Requirement already satisfied: keras-layer-normalization==0.16.0 in c:\\users\\thu\\anaconda3\\lib\\site-packages (from keras-transformer==0.40.0->keras-bert>=0.86.0->ktrain) (0.16.0)\n",
      "Requirement already satisfied: keras-self-attention==0.51.0 in c:\\users\\thu\\anaconda3\\lib\\site-packages (from keras-multi-head==0.29.0->keras-transformer==0.40.0->keras-bert>=0.86.0->ktrain) (0.51.0)\n",
      "Requirement already satisfied: kiwisolver>=1.0.1 in c:\\users\\thu\\anaconda3\\lib\\site-packages (from matplotlib>=3.0.0->ktrain) (1.3.1)\n",
      "Requirement already satisfied: pyparsing>=2.2.1 in c:\\users\\thu\\anaconda3\\lib\\site-packages (from matplotlib>=3.0.0->ktrain) (3.0.4)\n",
      "Requirement already satisfied: pillow>=6.2.0 in c:\\users\\thu\\anaconda3\\lib\\site-packages (from matplotlib>=3.0.0->ktrain) (8.4.0)\n",
      "Requirement already satisfied: python-dateutil>=2.7 in c:\\users\\thu\\anaconda3\\lib\\site-packages (from matplotlib>=3.0.0->ktrain) (2.8.2)\n",
      "Requirement already satisfied: cycler>=0.10 in c:\\users\\thu\\anaconda3\\lib\\site-packages (from matplotlib>=3.0.0->ktrain) (0.10.0)\n",
      "Requirement already satisfied: pytz>=2020.1 in c:\\users\\thu\\anaconda3\\lib\\site-packages (from pandas>=1.0.1->ktrain) (2021.3)\n",
      "Requirement already satisfied: six in c:\\users\\thu\\anaconda3\\lib\\site-packages (from langdetect->ktrain) (1.16.0)\n",
      "Requirement already satisfied: certifi>=2017.4.17 in c:\\users\\thu\\anaconda3\\lib\\site-packages (from requests->ktrain) (2021.10.8)\n",
      "Requirement already satisfied: idna<4,>=2.5 in c:\\users\\thu\\anaconda3\\lib\\site-packages (from requests->ktrain) (3.2)\n",
      "Requirement already satisfied: urllib3<1.27,>=1.21.1 in c:\\users\\thu\\anaconda3\\lib\\site-packages (from requests->ktrain) (1.26.7)\n",
      "Requirement already satisfied: charset-normalizer~=2.0.0 in c:\\users\\thu\\anaconda3\\lib\\site-packages (from requests->ktrain) (2.0.4)\n",
      "Requirement already satisfied: typing-extensions>=3.7.4.3 in c:\\users\\thu\\anaconda3\\lib\\site-packages (from huggingface-hub>=0.0.12->transformers==4.10.3->ktrain) (3.10.0.2)\n",
      "Requirement already satisfied: colorama in c:\\users\\thu\\anaconda3\\lib\\site-packages (from tqdm>=4.27->transformers==4.10.3->ktrain) (0.4.4)\n",
      "Requirement already satisfied: click in c:\\users\\thu\\anaconda3\\lib\\site-packages (from sacremoses->transformers==4.10.3->ktrain) (7.1.2)\n"
     ]
    }
   ],
   "source": [
    "!pip install ktrain\n",
    "import pandas as pd\n",
    "import numpy as np\n",
    "import ktrain\n",
    "import tensorflow as tf\n",
    "from ktrain import text"
   ]
  },
  {
   "cell_type": "code",
   "execution_count": 2,
   "id": "3130d5f0-1a8e-425c-bd52-3860f3fb1358",
   "metadata": {},
   "outputs": [
    {
     "data": {
      "text/plain": [
       "'2.8.0'"
      ]
     },
     "execution_count": 2,
     "metadata": {},
     "output_type": "execute_result"
    }
   ],
   "source": [
    "tf.version.VERSION"
   ]
  },
  {
   "cell_type": "code",
   "execution_count": 69,
   "id": "eceed16a-7b4b-415a-908f-46d366d1578a",
   "metadata": {},
   "outputs": [
    {
     "data": {
      "text/html": [
       "<div>\n",
       "<style scoped>\n",
       "    .dataframe tbody tr th:only-of-type {\n",
       "        vertical-align: middle;\n",
       "    }\n",
       "\n",
       "    .dataframe tbody tr th {\n",
       "        vertical-align: top;\n",
       "    }\n",
       "\n",
       "    .dataframe thead th {\n",
       "        text-align: right;\n",
       "    }\n",
       "</style>\n",
       "<table border=\"1\" class=\"dataframe\">\n",
       "  <thead>\n",
       "    <tr style=\"text-align: right;\">\n",
       "      <th></th>\n",
       "      <th>comment</th>\n",
       "      <th>rating</th>\n",
       "      <th>link</th>\n",
       "      <th>category_id</th>\n",
       "    </tr>\n",
       "  </thead>\n",
       "  <tbody>\n",
       "    <tr>\n",
       "      <th>0</th>\n",
       "      <td>Friendly staff, convenient location near Victo...</td>\n",
       "      <td>5</td>\n",
       "      <td>https://www.facebook.com/unilodge.vu/reviews</td>\n",
       "      <td>4</td>\n",
       "    </tr>\n",
       "    <tr>\n",
       "      <th>1</th>\n",
       "      <td>I stay here for 2 year and it make me feel hom...</td>\n",
       "      <td>5</td>\n",
       "      <td>https://www.facebook.com/unilodge.vu/reviews</td>\n",
       "      <td>4</td>\n",
       "    </tr>\n",
       "    <tr>\n",
       "      <th>2</th>\n",
       "      <td>I makes a lot of friend here too and having a ...</td>\n",
       "      <td>5</td>\n",
       "      <td>https://www.facebook.com/unilodge.vu/reviews</td>\n",
       "      <td>4</td>\n",
       "    </tr>\n",
       "    <tr>\n",
       "      <th>3</th>\n",
       "      <td>The staff is very polite and gentle specially ...</td>\n",
       "      <td>5</td>\n",
       "      <td>https://www.facebook.com/unilodge.vu/reviews</td>\n",
       "      <td>4</td>\n",
       "    </tr>\n",
       "    <tr>\n",
       "      <th>4</th>\n",
       "      <td>5 Star service experience here at UniLodge @ V...</td>\n",
       "      <td>5</td>\n",
       "      <td>https://www.facebook.com/unilodge.vu/reviews</td>\n",
       "      <td>4</td>\n",
       "    </tr>\n",
       "    <tr>\n",
       "      <th>...</th>\n",
       "      <td>...</td>\n",
       "      <td>...</td>\n",
       "      <td>...</td>\n",
       "      <td>...</td>\n",
       "    </tr>\n",
       "    <tr>\n",
       "      <th>94</th>\n",
       "      <td>Overall good. I will defo come...Movie room an...</td>\n",
       "      <td>4</td>\n",
       "      <td>https://planetofhotels.com/en/australia/melbou...</td>\n",
       "      <td>1</td>\n",
       "    </tr>\n",
       "    <tr>\n",
       "      <th>95</th>\n",
       "      <td>It was excellent overall and...The pool and th...</td>\n",
       "      <td>5</td>\n",
       "      <td>https://planetofhotels.com/en/australia/melbou...</td>\n",
       "      <td>1</td>\n",
       "    </tr>\n",
       "    <tr>\n",
       "      <th>96</th>\n",
       "      <td>Good</td>\n",
       "      <td>5</td>\n",
       "      <td>https://planetofhotels.com/en/australia/melbou...</td>\n",
       "      <td>1</td>\n",
       "    </tr>\n",
       "    <tr>\n",
       "      <th>97</th>\n",
       "      <td>Very convenient. Great location. Ease of check...</td>\n",
       "      <td>5</td>\n",
       "      <td>https://planetofhotels.com/en/australia/melbou...</td>\n",
       "      <td>1</td>\n",
       "    </tr>\n",
       "    <tr>\n",
       "      <th>98</th>\n",
       "      <td>Superb</td>\n",
       "      <td>5</td>\n",
       "      <td>https://planetofhotels.com/en/australia/melbou...</td>\n",
       "      <td>1</td>\n",
       "    </tr>\n",
       "  </tbody>\n",
       "</table>\n",
       "<p>99 rows × 4 columns</p>\n",
       "</div>"
      ],
      "text/plain": [
       "                                              comment  rating  \\\n",
       "0   Friendly staff, convenient location near Victo...       5   \n",
       "1   I stay here for 2 year and it make me feel hom...       5   \n",
       "2   I makes a lot of friend here too and having a ...       5   \n",
       "3   The staff is very polite and gentle specially ...       5   \n",
       "4   5 Star service experience here at UniLodge @ V...       5   \n",
       "..                                                ...     ...   \n",
       "94  Overall good. I will defo come...Movie room an...       4   \n",
       "95  It was excellent overall and...The pool and th...       5   \n",
       "96                                               Good       5   \n",
       "97  Very convenient. Great location. Ease of check...       5   \n",
       "98                                             Superb       5   \n",
       "\n",
       "                                                 link  category_id  \n",
       "0        https://www.facebook.com/unilodge.vu/reviews            4  \n",
       "1        https://www.facebook.com/unilodge.vu/reviews            4  \n",
       "2        https://www.facebook.com/unilodge.vu/reviews            4  \n",
       "3        https://www.facebook.com/unilodge.vu/reviews            4  \n",
       "4        https://www.facebook.com/unilodge.vu/reviews            4  \n",
       "..                                                ...          ...  \n",
       "94  https://planetofhotels.com/en/australia/melbou...            1  \n",
       "95  https://planetofhotels.com/en/australia/melbou...            1  \n",
       "96  https://planetofhotels.com/en/australia/melbou...            1  \n",
       "97  https://planetofhotels.com/en/australia/melbou...            1  \n",
       "98  https://planetofhotels.com/en/australia/melbou...            1  \n",
       "\n",
       "[99 rows x 4 columns]"
      ]
     },
     "execution_count": 69,
     "metadata": {},
     "output_type": "execute_result"
    }
   ],
   "source": [
    "df_train = pd.read_csv('../data/interim/reviews/external_reviews.csv', encoding='utf-8')\n",
    "df_test = pd.read_csv('../data/interim/reviews/dwell.csv', encoding='utf-8')\n",
    "\n",
    "df_train"
   ]
  },
  {
   "cell_type": "code",
   "execution_count": 70,
   "id": "9029d71f-264e-4634-8fbe-f83fe8928359",
   "metadata": {},
   "outputs": [
    {
     "data": {
      "text/plain": [
       "5    45\n",
       "1    22\n",
       "4    12\n",
       "3    11\n",
       "2     9\n",
       "Name: rating, dtype: int64"
      ]
     },
     "execution_count": 70,
     "metadata": {},
     "output_type": "execute_result"
    }
   ],
   "source": [
    "df_train.rating.value_counts()"
   ]
  },
  {
   "cell_type": "code",
   "execution_count": 71,
   "id": "1e9ecce4-bd83-4902-80a0-0b58afde0999",
   "metadata": {},
   "outputs": [],
   "source": [
    "X_train = df_train.comment.tolist()\n",
    "X_test = df_test.comment.tolist()\n",
    "y_train = df_train.rating.tolist()\n",
    "y_test = df_test.rating.tolist()"
   ]
  },
  {
   "cell_type": "code",
   "execution_count": 72,
   "id": "ceff7708-5ee7-43a0-8b1b-fe5a3acbd9ed",
   "metadata": {},
   "outputs": [
    {
     "name": "stdout",
     "output_type": "stream",
     "text": [
      "99 23 99 23\n"
     ]
    }
   ],
   "source": [
    "# Checking size of our train and test datasets:\n",
    "print(len(X_train),len(X_test),len(y_train),len(y_test))"
   ]
  },
  {
   "cell_type": "code",
   "execution_count": 75,
   "id": "8b695ee8-697d-4597-83be-be597628ae37",
   "metadata": {},
   "outputs": [],
   "source": [
    "stars = [1, 2, 3, 4, 5]"
   ]
  },
  {
   "cell_type": "code",
   "execution_count": 76,
   "id": "b1bf762c-0136-4ef8-9885-2f63e95eed2c",
   "metadata": {},
   "outputs": [],
   "source": [
    "# encoding = { '1': 0,\n",
    "#     '2': 1,\n",
    "#     '3': 2,\n",
    "#     '4': 3,\n",
    "#     '5': 4\n",
    "# }\n",
    "\n",
    "# y_train = [encoding[key] for key in y_train]\n",
    "# y_test = [encoding[key] for key in y_test]"
   ]
  },
  {
   "cell_type": "markdown",
   "id": "0247f89c-ce02-4cc7-abd5-ff8fd9b05442",
   "metadata": {},
   "source": [
    "# Building Model using Transformer"
   ]
  },
  {
   "cell_type": "markdown",
   "id": "06c6c65e-10b6-4e79-b209-f8d70466a64e",
   "metadata": {},
   "source": [
    "We are using bert-base-uncased model. You can choose any other model. I am selecting maxlen of tokenization as 512 (it's max for BERT)."
   ]
  },
  {
   "cell_type": "code",
   "execution_count": 77,
   "id": "77a9173d-a47e-4502-a7ea-27cfbf4bd22b",
   "metadata": {},
   "outputs": [],
   "source": [
    "model_arch ='bert-base-uncased'\n",
    "MAXLEN = 512\n",
    "trans = text.Transformer(model_arch, maxlen=MAXLEN, class_names= stars)\n"
   ]
  },
  {
   "cell_type": "code",
   "execution_count": 78,
   "id": "4ee99ce1-bc89-416d-8981-473522cdbe97",
   "metadata": {},
   "outputs": [
    {
     "name": "stdout",
     "output_type": "stream",
     "text": [
      "[5, 5, 5, 5, 4, 4, 4, 4, 3, 3, 5, 4, 2, 5, 5, 4, 5, 4, 4, 5, 5, 5, 5]\n"
     ]
    }
   ],
   "source": [
    "print(y_test)"
   ]
  },
  {
   "cell_type": "markdown",
   "id": "f7eb9516-c3f3-4a3e-b69f-d1e437b6b49b",
   "metadata": {},
   "source": [
    "Let's preprocess out test and train data set."
   ]
  },
  {
   "cell_type": "code",
   "execution_count": 82,
   "id": "583c08b9-5dca-41ef-995e-433a382470f2",
   "metadata": {},
   "outputs": [],
   "source": [
    "train_data = trans.preprocess_train(X_train,y_train)\n",
    "test_data = trans.preprocess_test(X_test,y_test)"
   ]
  },
  {
   "cell_type": "code",
   "execution_count": null,
   "id": "4bf2622e-b640-4852-8d3f-1d9d57bccb63",
   "metadata": {},
   "outputs": [],
   "source": [
    "model = trans.get_classifier()"
   ]
  },
  {
   "cell_type": "code",
   "execution_count": null,
   "id": "f45409b7-d0cb-4b94-977c-f933bee90e56",
   "metadata": {},
   "outputs": [],
   "source": [
    "learner = ktrain.get_learner(model, train_data=train_data, val_data=test_data, batch_size=10)"
   ]
  },
  {
   "cell_type": "markdown",
   "id": "86d37b7e-12a0-4385-b64d-f73ee58bb92c",
   "metadata": {},
   "source": [
    "Finding the best learning rate:"
   ]
  },
  {
   "cell_type": "code",
   "execution_count": 83,
   "id": "32239f07-11c1-4633-9e2d-ae2e6ed1c9d1",
   "metadata": {},
   "outputs": [],
   "source": [
    "learner.lr_find(show_plot=True, max_epochs=10)"
   ]
  },
  {
   "cell_type": "code",
   "execution_count": 84,
   "id": "c8ea4f7a-c6a1-4e0f-a666-d99df62e8faf",
   "metadata": {},
   "outputs": [],
   "source": [
    "learner.fit_onecycle(3e-5, 5)"
   ]
  },
  {
   "cell_type": "markdown",
   "id": "cb6a1662-b62f-4b0b-8789-20bafbfe1f6e",
   "metadata": {},
   "source": [
    "**Confusion Matrix:**"
   ]
  },
  {
   "cell_type": "code",
   "execution_count": null,
   "id": "cd6689bb-357f-4feb-9703-f4a95efc6554",
   "metadata": {},
   "outputs": [],
   "source": [
    "learner.validate(val_data=test_data, class_names=stars)"
   ]
  },
  {
   "cell_type": "markdown",
   "id": "64b0695f-d637-441a-948a-54aa9a6d841c",
   "metadata": {},
   "source": [
    "**top 5 data points not performing good:**"
   ]
  },
  {
   "cell_type": "code",
   "execution_count": null,
   "id": "cba1be2b-ca03-4ff7-8435-d7242ebb6949",
   "metadata": {},
   "outputs": [],
   "source": [
    "learner.view_top_losses(n=5, preproc=trans)"
   ]
  },
  {
   "cell_type": "code",
   "execution_count": null,
   "id": "12be1603-d850-45b4-a86d-e59d837f1b97",
   "metadata": {},
   "outputs": [],
   "source": [
    "X_test[1928]"
   ]
  },
  {
   "cell_type": "markdown",
   "id": "00896904-697d-4915-adb3-63e5409337e2",
   "metadata": {},
   "source": [
    "Above data our model is predicting as sadness but label is mentioned as fear."
   ]
  },
  {
   "cell_type": "markdown",
   "id": "5222aa9f-fc46-414b-a58a-1fd04ccccf3a",
   "metadata": {},
   "source": [
    "# Predict Data:"
   ]
  },
  {
   "cell_type": "code",
   "execution_count": null,
   "id": "198c1b81-6930-4fa1-a305-6ec8fac0ed5a",
   "metadata": {},
   "outputs": [],
   "source": [
    "predictor = ktrain.get_predictor(learner.model, preproc=trans)"
   ]
  },
  {
   "cell_type": "code",
   "execution_count": null,
   "id": "6947c7dd-7daf-43ec-b878-13d903292ac3",
   "metadata": {},
   "outputs": [],
   "source": [
    "inp = 'I am very disappointed with this kind of accomodation. Need refund.'"
   ]
  },
  {
   "cell_type": "code",
   "execution_count": null,
   "id": "210af1de-58c3-4589-811e-2a62fa6b9b88",
   "metadata": {},
   "outputs": [],
   "source": [
    "predictor.predict(inp)"
   ]
  },
  {
   "cell_type": "code",
   "execution_count": null,
   "id": "faecb722-3eb6-4130-a2f2-49e10c666f5f",
   "metadata": {},
   "outputs": [],
   "source": []
  },
  {
   "cell_type": "code",
   "execution_count": null,
   "id": "39d4cfa0-fbd2-4e81-9b91-c0fc1730b8b0",
   "metadata": {},
   "outputs": [],
   "source": []
  },
  {
   "cell_type": "code",
   "execution_count": null,
   "id": "0b547229-8f7c-4c52-beba-ff954d77a781",
   "metadata": {},
   "outputs": [],
   "source": []
  }
 ],
 "metadata": {
  "kernelspec": {
   "display_name": "Python 3 (ipykernel)",
   "language": "python",
   "name": "python3"
  },
  "language_info": {
   "codemirror_mode": {
    "name": "ipython",
    "version": 3
   },
   "file_extension": ".py",
   "mimetype": "text/x-python",
   "name": "python",
   "nbconvert_exporter": "python",
   "pygments_lexer": "ipython3",
   "version": "3.9.7"
  }
 },
 "nbformat": 4,
 "nbformat_minor": 5
}
